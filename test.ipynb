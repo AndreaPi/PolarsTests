{
 "cells": [
  {
   "cell_type": "code",
   "execution_count": 2,
   "id": "7874cbc308fe31b3",
   "metadata": {
    "collapsed": false,
    "ExecuteTime": {
     "end_time": "2024-02-23T16:30:29.684049500Z",
     "start_time": "2024-02-23T16:30:27.763855700Z"
    }
   },
   "outputs": [],
   "source": [
    "import polars as pl\n",
    "import numpy as np"
   ]
  },
  {
   "cell_type": "code",
   "outputs": [
    {
     "name": "stdout",
     "output_type": "stream",
     "text": [
      "shape: (5, 4)\n",
      "┌──────┬───────┬──────────┬───────┐\n",
      "│ nrs  ┆ names ┆ random   ┆ A     │\n",
      "│ ---  ┆ ---   ┆ ---      ┆ ---   │\n",
      "│ i64  ┆ str   ┆ f64      ┆ bool  │\n",
      "╞══════╪═══════╪══════════╪═══════╡\n",
      "│ 1    ┆ foo   ┆ 0.881208 ┆ true  │\n",
      "│ 2    ┆ ham   ┆ 0.532887 ┆ true  │\n",
      "│ 3    ┆ spam  ┆ 0.516695 ┆ false │\n",
      "│ null ┆ egg   ┆ 0.123462 ┆ false │\n",
      "│ 5    ┆ null  ┆ 0.813876 ┆ false │\n",
      "└──────┴───────┴──────────┴───────┘\n"
     ]
    }
   ],
   "source": [
    "df = pl.DataFrame(\n",
    "    {\n",
    "        \"nrs\": [1, 2, 3, None, 5],\n",
    "        \"names\": [\"foo\", \"ham\", \"spam\", \"egg\", None],\n",
    "        \"random\": np.random.rand(5),\n",
    "        \"A\": [True, True, False, False, False],\n",
    "    }\n",
    ")\n",
    "print(df)"
   ],
   "metadata": {
    "collapsed": true,
    "ExecuteTime": {
     "end_time": "2024-02-23T16:30:29.731984Z",
     "start_time": "2024-02-23T16:30:29.687048100Z"
    }
   },
   "id": "initial_id",
   "execution_count": 3
  },
  {
   "cell_type": "code",
   "outputs": [
    {
     "data": {
      "text/plain": "0.4"
     },
     "execution_count": 4,
     "metadata": {},
     "output_type": "execute_result"
    }
   ],
   "source": [
    "# count number of rows where A == True\n",
    "df.select(pl.col(\"A\").sum() / pl.len()).item()"
   ],
   "metadata": {
    "collapsed": false,
    "ExecuteTime": {
     "end_time": "2024-02-23T16:30:29.774102400Z",
     "start_time": "2024-02-23T16:30:29.729989400Z"
    }
   },
   "id": "d281e0f60ce77fc",
   "execution_count": 4
  },
  {
   "cell_type": "code",
   "outputs": [
    {
     "data": {
      "text/plain": "'egg'"
     },
     "execution_count": 5,
     "metadata": {},
     "output_type": "execute_result"
    }
   ],
   "source": [
    "df[3, 'names']"
   ],
   "metadata": {
    "collapsed": false,
    "ExecuteTime": {
     "end_time": "2024-02-23T16:30:29.793117800Z",
     "start_time": "2024-02-23T16:30:29.775101600Z"
    }
   },
   "id": "90573ac0a502fa43",
   "execution_count": 5
  },
  {
   "cell_type": "code",
   "outputs": [],
   "source": [],
   "metadata": {
    "collapsed": false,
    "ExecuteTime": {
     "end_time": "2024-02-23T16:30:29.839185100Z",
     "start_time": "2024-02-23T16:30:29.792609400Z"
    }
   },
   "id": "1f2c4eade86a0a3f",
   "execution_count": 5
  }
 ],
 "metadata": {
  "kernelspec": {
   "display_name": "Python 3",
   "language": "python",
   "name": "python3"
  },
  "language_info": {
   "codemirror_mode": {
    "name": "ipython",
    "version": 2
   },
   "file_extension": ".py",
   "mimetype": "text/x-python",
   "name": "python",
   "nbconvert_exporter": "python",
   "pygments_lexer": "ipython2",
   "version": "2.7.6"
  }
 },
 "nbformat": 4,
 "nbformat_minor": 5
}
