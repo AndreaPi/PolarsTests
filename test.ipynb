{
 "cells": [
  {
   "cell_type": "code",
   "id": "7874cbc308fe31b3",
   "metadata": {
    "collapsed": false,
    "ExecuteTime": {
     "end_time": "2024-04-16T15:20:32.540317Z",
     "start_time": "2024-04-16T15:20:31.453809Z"
    }
   },
   "source": [
    "import polars as pl\n",
    "import numpy as np"
   ],
   "outputs": [],
   "execution_count": 1
  },
  {
   "cell_type": "code",
   "source": [
    "nrows = 5000\n",
    "rng = np.random.default_rng(42)\n",
    "\n",
    "df = pl.DataFrame(\n",
    "    {\n",
    "        \"sqm\": rng.gamma(shape=1.5, scale=80, size=nrows),\n",
    "        \"year\": rng.integers(low=1970, high=2022, size=nrows),\n",
    "        \"energy_rating\": rng.choice(['A', 'B', 'C', 'D', 'F', 'G'], size=nrows),\n",
    "        \"good\": rng.choice([True, False], size=nrows),\n",
    "\n",
    "    }\n",
    ")\n",
    "print(df)"
   ],
   "metadata": {
    "collapsed": true,
    "ExecuteTime": {
     "end_time": "2024-04-16T15:20:32.641171Z",
     "start_time": "2024-04-16T15:20:32.542325Z"
    }
   },
   "id": "initial_id",
   "outputs": [
    {
     "name": "stdout",
     "output_type": "stream",
     "text": [
      "shape: (5_000, 4)\n",
      "┌────────────┬──────┬───────────────┬───────┐\n",
      "│ sqm        ┆ year ┆ energy_rating ┆ good  │\n",
      "│ ---        ┆ ---  ┆ ---           ┆ ---   │\n",
      "│ f64        ┆ i64  ┆ str           ┆ bool  │\n",
      "╞════════════╪══════╪═══════════════╪═══════╡\n",
      "│ 122.21758  ┆ 2020 ┆ D             ┆ false │\n",
      "│ 174.357146 ┆ 2000 ┆ G             ┆ false │\n",
      "│ 104.821556 ┆ 1970 ┆ F             ┆ true  │\n",
      "│ 91.889062  ┆ 1980 ┆ A             ┆ false │\n",
      "│ 191.809985 ┆ 1976 ┆ A             ┆ false │\n",
      "│ …          ┆ …    ┆ …             ┆ …     │\n",
      "│ 176.581779 ┆ 1982 ┆ B             ┆ true  │\n",
      "│ 214.25315  ┆ 1970 ┆ B             ┆ false │\n",
      "│ 119.995315 ┆ 2007 ┆ C             ┆ true  │\n",
      "│ 193.937095 ┆ 1995 ┆ A             ┆ true  │\n",
      "│ 44.025054  ┆ 2010 ┆ A             ┆ false │\n",
      "└────────────┴──────┴───────────────┴───────┘\n"
     ]
    }
   ],
   "execution_count": 2
  },
  {
   "metadata": {
    "ExecuteTime": {
     "end_time": "2024-04-16T15:20:32.651510Z",
     "start_time": "2024-04-16T15:20:32.643179Z"
    }
   },
   "cell_type": "code",
   "source": [
    "# count number of rows where A == True\n",
    "df.select(pl.col(\"good\").sum() / pl.len()).item()"
   ],
   "id": "d281e0f60ce77fc",
   "outputs": [
    {
     "data": {
      "text/plain": [
       "0.4932"
      ]
     },
     "execution_count": 3,
     "metadata": {},
     "output_type": "execute_result"
    }
   ],
   "execution_count": 3
  },
  {
   "cell_type": "code",
   "source": [
    "# you can access a single element of a Polars dataframe in at least two ways...\n",
    "irow = 3\n",
    "print(df[irow, 'energy_rating'])\n",
    "print(df.item(irow, 'energy_rating')) "
   ],
   "metadata": {
    "collapsed": false,
    "ExecuteTime": {
     "end_time": "2024-04-16T15:20:32.657159Z",
     "start_time": "2024-04-16T15:20:32.652517Z"
    }
   },
   "id": "90573ac0a502fa43",
   "outputs": [
    {
     "name": "stdout",
     "output_type": "stream",
     "text": [
      "A\n",
      "A\n"
     ]
    }
   ],
   "execution_count": 4
  },
  {
   "cell_type": "code",
   "source": [
    "# ...but only the first way allows you to also edit the element!\n",
    "df[irow, 'energy_rating'] = \"Z\"\n",
    "print(df[irow, 'energy_rating'])"
   ],
   "metadata": {
    "collapsed": false,
    "ExecuteTime": {
     "end_time": "2024-04-16T15:20:32.665181Z",
     "start_time": "2024-04-16T15:20:32.659165Z"
    }
   },
   "id": "db69c04d038d445f",
   "outputs": [
    {
     "name": "stdout",
     "output_type": "stream",
     "text": [
      "Z\n"
     ]
    }
   ],
   "execution_count": 5
  },
  {
   "cell_type": "code",
   "source": [
    "# Instead, the other one uses a function call, and you cannot assign to a function call. Try uncommenting next line and executing this cell!\n",
    "# df.item(irow, 'energy_rating') = \"Z\""
   ],
   "metadata": {
    "collapsed": false,
    "ExecuteTime": {
     "end_time": "2024-04-16T15:20:32.670933Z",
     "start_time": "2024-04-16T15:20:32.666193Z"
    }
   },
   "id": "65fbd51a08683685",
   "outputs": [],
   "execution_count": 6
  },
  {
   "metadata": {
    "ExecuteTime": {
     "end_time": "2024-04-16T15:20:32.683342Z",
     "start_time": "2024-04-16T15:20:32.673948Z"
    }
   },
   "cell_type": "code",
   "source": [
    "# new syntax to replace a column\n",
    "new = np.arange(nrows)\n",
    "df = df.with_columns(pl.Series('sqm', new))\n",
    "df"
   ],
   "id": "aba47aa278cd3855",
   "outputs": [
    {
     "data": {
      "text/plain": [
       "shape: (5_000, 4)\n",
       "┌──────┬──────┬───────────────┬───────┐\n",
       "│ sqm  ┆ year ┆ energy_rating ┆ good  │\n",
       "│ ---  ┆ ---  ┆ ---           ┆ ---   │\n",
       "│ i32  ┆ i64  ┆ str           ┆ bool  │\n",
       "╞══════╪══════╪═══════════════╪═══════╡\n",
       "│ 0    ┆ 2020 ┆ D             ┆ false │\n",
       "│ 1    ┆ 2000 ┆ G             ┆ false │\n",
       "│ 2    ┆ 1970 ┆ F             ┆ true  │\n",
       "│ 3    ┆ 1980 ┆ Z             ┆ false │\n",
       "│ 4    ┆ 1976 ┆ A             ┆ false │\n",
       "│ …    ┆ …    ┆ …             ┆ …     │\n",
       "│ 4995 ┆ 1982 ┆ B             ┆ true  │\n",
       "│ 4996 ┆ 1970 ┆ B             ┆ false │\n",
       "│ 4997 ┆ 2007 ┆ C             ┆ true  │\n",
       "│ 4998 ┆ 1995 ┆ A             ┆ true  │\n",
       "│ 4999 ┆ 2010 ┆ A             ┆ false │\n",
       "└──────┴──────┴───────────────┴───────┘"
      ],
      "text/html": [
       "<div><style>\n",
       ".dataframe > thead > tr,\n",
       ".dataframe > tbody > tr {\n",
       "  text-align: right;\n",
       "  white-space: pre-wrap;\n",
       "}\n",
       "</style>\n",
       "<small>shape: (5_000, 4)</small><table border=\"1\" class=\"dataframe\"><thead><tr><th>sqm</th><th>year</th><th>energy_rating</th><th>good</th></tr><tr><td>i32</td><td>i64</td><td>str</td><td>bool</td></tr></thead><tbody><tr><td>0</td><td>2020</td><td>&quot;D&quot;</td><td>false</td></tr><tr><td>1</td><td>2000</td><td>&quot;G&quot;</td><td>false</td></tr><tr><td>2</td><td>1970</td><td>&quot;F&quot;</td><td>true</td></tr><tr><td>3</td><td>1980</td><td>&quot;Z&quot;</td><td>false</td></tr><tr><td>4</td><td>1976</td><td>&quot;A&quot;</td><td>false</td></tr><tr><td>&hellip;</td><td>&hellip;</td><td>&hellip;</td><td>&hellip;</td></tr><tr><td>4995</td><td>1982</td><td>&quot;B&quot;</td><td>true</td></tr><tr><td>4996</td><td>1970</td><td>&quot;B&quot;</td><td>false</td></tr><tr><td>4997</td><td>2007</td><td>&quot;C&quot;</td><td>true</td></tr><tr><td>4998</td><td>1995</td><td>&quot;A&quot;</td><td>true</td></tr><tr><td>4999</td><td>2010</td><td>&quot;A&quot;</td><td>false</td></tr></tbody></table></div>"
      ]
     },
     "execution_count": 7,
     "metadata": {},
     "output_type": "execute_result"
    }
   ],
   "execution_count": 7
  },
  {
   "metadata": {
    "ExecuteTime": {
     "end_time": "2024-04-16T15:20:32.690520Z",
     "start_time": "2024-04-16T15:20:32.684868Z"
    }
   },
   "cell_type": "code",
   "source": [
    "# The new syntax doesn't check for the column to exist already, so this can introduce subtle bugs\n",
    "df = df.with_columns(pl.Series('sq', new))\n",
    "print(df)"
   ],
   "id": "fd46e31fd512017d",
   "outputs": [
    {
     "name": "stdout",
     "output_type": "stream",
     "text": [
      "shape: (5_000, 5)\n",
      "┌──────┬──────┬───────────────┬───────┬──────┐\n",
      "│ sqm  ┆ year ┆ energy_rating ┆ good  ┆ sq   │\n",
      "│ ---  ┆ ---  ┆ ---           ┆ ---   ┆ ---  │\n",
      "│ i32  ┆ i64  ┆ str           ┆ bool  ┆ i32  │\n",
      "╞══════╪══════╪═══════════════╪═══════╪══════╡\n",
      "│ 0    ┆ 2020 ┆ D             ┆ false ┆ 0    │\n",
      "│ 1    ┆ 2000 ┆ G             ┆ false ┆ 1    │\n",
      "│ 2    ┆ 1970 ┆ F             ┆ true  ┆ 2    │\n",
      "│ 3    ┆ 1980 ┆ Z             ┆ false ┆ 3    │\n",
      "│ 4    ┆ 1976 ┆ A             ┆ false ┆ 4    │\n",
      "│ …    ┆ …    ┆ …             ┆ …     ┆ …    │\n",
      "│ 4995 ┆ 1982 ┆ B             ┆ true  ┆ 4995 │\n",
      "│ 4996 ┆ 1970 ┆ B             ┆ false ┆ 4996 │\n",
      "│ 4997 ┆ 2007 ┆ C             ┆ true  ┆ 4997 │\n",
      "│ 4998 ┆ 1995 ┆ A             ┆ true  ┆ 4998 │\n",
      "│ 4999 ┆ 2010 ┆ A             ┆ false ┆ 4999 │\n",
      "└──────┴──────┴───────────────┴───────┴──────┘\n"
     ]
    }
   ],
   "execution_count": 8
  },
  {
   "metadata": {
    "ExecuteTime": {
     "end_time": "2024-04-16T15:20:33.017714Z",
     "start_time": "2024-04-16T15:20:32.693573Z"
    }
   },
   "cell_type": "code",
   "source": [
    "df.drop('sq')\n",
    "# replace_column can be combined with df.columns to prevent such bugs\n",
    "df.replace_column(df.columns.index(\"name\"), pl.Series('name', new))"
   ],
   "id": "6685f7e12899a5a3",
   "outputs": [
    {
     "ename": "ValueError",
     "evalue": "'name' is not in list",
     "output_type": "error",
     "traceback": [
      "\u001B[1;31m---------------------------------------------------------------------------\u001B[0m",
      "\u001B[1;31mValueError\u001B[0m                                Traceback (most recent call last)",
      "Cell \u001B[1;32mIn[9], line 3\u001B[0m\n\u001B[0;32m      1\u001B[0m df\u001B[38;5;241m.\u001B[39mdrop(\u001B[38;5;124m'\u001B[39m\u001B[38;5;124msq\u001B[39m\u001B[38;5;124m'\u001B[39m)\n\u001B[0;32m      2\u001B[0m \u001B[38;5;66;03m# replace_column can be combined with df.columns to prevent such bugs\u001B[39;00m\n\u001B[1;32m----> 3\u001B[0m df\u001B[38;5;241m.\u001B[39mreplace_column(\u001B[43mdf\u001B[49m\u001B[38;5;241;43m.\u001B[39;49m\u001B[43mcolumns\u001B[49m\u001B[38;5;241;43m.\u001B[39;49m\u001B[43mindex\u001B[49m\u001B[43m(\u001B[49m\u001B[38;5;124;43m\"\u001B[39;49m\u001B[38;5;124;43mname\u001B[39;49m\u001B[38;5;124;43m\"\u001B[39;49m\u001B[43m)\u001B[49m, pl\u001B[38;5;241m.\u001B[39mSeries(\u001B[38;5;124m'\u001B[39m\u001B[38;5;124mname\u001B[39m\u001B[38;5;124m'\u001B[39m, new))\n",
      "\u001B[1;31mValueError\u001B[0m: 'name' is not in list"
     ]
    }
   ],
   "execution_count": 9
  },
  {
   "cell_type": "code",
   "source": [
    "# how to add a constant value to a column\n",
    "df = df.with_columns(pl.col('sqm') + 500.0)\n",
    "print(df)"
   ],
   "metadata": {
    "collapsed": false,
    "ExecuteTime": {
     "end_time": "2024-04-16T15:20:42.183119Z",
     "start_time": "2024-04-16T15:20:42.176149Z"
    }
   },
   "id": "eb60936d8747d977",
   "outputs": [
    {
     "name": "stdout",
     "output_type": "stream",
     "text": [
      "shape: (5_000, 5)\n",
      "┌────────┬──────┬───────────────┬───────┬──────┐\n",
      "│ sqm    ┆ year ┆ energy_rating ┆ good  ┆ sq   │\n",
      "│ ---    ┆ ---  ┆ ---           ┆ ---   ┆ ---  │\n",
      "│ f64    ┆ i64  ┆ str           ┆ bool  ┆ i32  │\n",
      "╞════════╪══════╪═══════════════╪═══════╪══════╡\n",
      "│ 500.0  ┆ 2020 ┆ D             ┆ false ┆ 0    │\n",
      "│ 501.0  ┆ 2000 ┆ G             ┆ false ┆ 1    │\n",
      "│ 502.0  ┆ 1970 ┆ F             ┆ true  ┆ 2    │\n",
      "│ 503.0  ┆ 1980 ┆ Z             ┆ false ┆ 3    │\n",
      "│ 504.0  ┆ 1976 ┆ A             ┆ false ┆ 4    │\n",
      "│ …      ┆ …    ┆ …             ┆ …     ┆ …    │\n",
      "│ 5495.0 ┆ 1982 ┆ B             ┆ true  ┆ 4995 │\n",
      "│ 5496.0 ┆ 1970 ┆ B             ┆ false ┆ 4996 │\n",
      "│ 5497.0 ┆ 2007 ┆ C             ┆ true  ┆ 4997 │\n",
      "│ 5498.0 ┆ 1995 ┆ A             ┆ true  ┆ 4998 │\n",
      "│ 5499.0 ┆ 2010 ┆ A             ┆ false ┆ 4999 │\n",
      "└────────┴──────┴───────────────┴───────┴──────┘\n"
     ]
    }
   ],
   "execution_count": 10
  },
  {
   "metadata": {},
   "cell_type": "code",
   "outputs": [],
   "execution_count": null,
   "source": "",
   "id": "c5efedbcb8e51e44"
  }
 ],
 "metadata": {
  "kernelspec": {
   "display_name": "Python 3",
   "language": "python",
   "name": "python3"
  },
  "language_info": {
   "codemirror_mode": {
    "name": "ipython",
    "version": 2
   },
   "file_extension": ".py",
   "mimetype": "text/x-python",
   "name": "python",
   "nbconvert_exporter": "python",
   "pygments_lexer": "ipython2",
   "version": "2.7.6"
  }
 },
 "nbformat": 4,
 "nbformat_minor": 5
}
