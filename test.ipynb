{
 "cells": [
  {
   "cell_type": "code",
   "execution_count": 1,
   "id": "7874cbc308fe31b3",
   "metadata": {
    "collapsed": false,
    "ExecuteTime": {
     "end_time": "2024-03-15T23:07:58.616345Z",
     "start_time": "2024-03-15T23:07:57.164653Z"
    }
   },
   "outputs": [],
   "source": [
    "import polars as pl\n",
    "import numpy as np"
   ]
  },
  {
   "cell_type": "code",
   "outputs": [
    {
     "name": "stdout",
     "output_type": "stream",
     "text": [
      "shape: (5, 4)\n",
      "┌──────┬───────┬──────────┬───────┐\n",
      "│ nrs  ┆ names ┆ random   ┆ A     │\n",
      "│ ---  ┆ ---   ┆ ---      ┆ ---   │\n",
      "│ i64  ┆ str   ┆ f64      ┆ bool  │\n",
      "╞══════╪═══════╪══════════╪═══════╡\n",
      "│ 1    ┆ foo   ┆ 0.773956 ┆ true  │\n",
      "│ 2    ┆ ham   ┆ 0.438878 ┆ true  │\n",
      "│ 3    ┆ spam  ┆ 0.858598 ┆ false │\n",
      "│ null ┆ egg   ┆ 0.697368 ┆ false │\n",
      "│ 5    ┆ null  ┆ 0.094177 ┆ false │\n",
      "└──────┴───────┴──────────┴───────┘\n"
     ]
    }
   ],
   "source": [
    "rng = np.random.default_rng(42)\n",
    "\n",
    "df = pl.DataFrame(\n",
    "    {\n",
    "        \"nrs\": [1, 2, 3, None, 5],\n",
    "        \"names\": [\"foo\", \"ham\", \"spam\", \"egg\", None],\n",
    "        \"random\": rng.random(5),\n",
    "        \"A\": [True, True, False, False, False],\n",
    "    }\n",
    ")\n",
    "print(df)"
   ],
   "metadata": {
    "collapsed": true,
    "ExecuteTime": {
     "end_time": "2024-03-15T23:07:58.683805Z",
     "start_time": "2024-03-15T23:07:58.619935Z"
    }
   },
   "id": "initial_id",
   "execution_count": 2
  },
  {
   "cell_type": "code",
   "outputs": [
    {
     "data": {
      "text/plain": "0.4"
     },
     "execution_count": 3,
     "metadata": {},
     "output_type": "execute_result"
    }
   ],
   "source": [
    "# count number of rows where A == True\n",
    "df.select(pl.col(\"A\").sum() / pl.len()).item()"
   ],
   "metadata": {
    "collapsed": false,
    "ExecuteTime": {
     "end_time": "2024-03-15T23:07:58.732452Z",
     "start_time": "2024-03-15T23:07:58.684958Z"
    }
   },
   "id": "d281e0f60ce77fc",
   "execution_count": 3
  },
  {
   "cell_type": "code",
   "outputs": [],
   "source": [
    "# different ways to index a single element of a Polars dataframe\n",
    "irow = 3\n",
    "assert df[irow, 'names'] == df.item(irow, 'names')"
   ],
   "metadata": {
    "collapsed": false,
    "ExecuteTime": {
     "end_time": "2024-03-15T23:07:58.738571Z",
     "start_time": "2024-03-15T23:07:58.733530Z"
    }
   },
   "id": "90573ac0a502fa43",
   "execution_count": 4
  },
  {
   "cell_type": "code",
   "outputs": [
    {
     "name": "stdout",
     "output_type": "stream",
     "text": [
      "shape: (5, 4)\n",
      "┌──────┬───────┬────────────┬───────┐\n",
      "│ nrs  ┆ names ┆ random     ┆ A     │\n",
      "│ ---  ┆ ---   ┆ ---        ┆ ---   │\n",
      "│ i64  ┆ str   ┆ f64        ┆ bool  │\n",
      "╞══════╪═══════╪════════════╪═══════╡\n",
      "│ 1    ┆ foo   ┆ 500.773956 ┆ true  │\n",
      "│ 2    ┆ ham   ┆ 500.438878 ┆ true  │\n",
      "│ 3    ┆ spam  ┆ 500.858598 ┆ false │\n",
      "│ null ┆ egg   ┆ 500.697368 ┆ false │\n",
      "│ 5    ┆ null  ┆ 500.094177 ┆ false │\n",
      "└──────┴───────┴────────────┴───────┘\n"
     ]
    }
   ],
   "source": [
    "# how to add a constant value to a column\n",
    "df = df.with_columns(pl.col('random') + 500.0)\n",
    "print(df)"
   ],
   "metadata": {
    "collapsed": false,
    "ExecuteTime": {
     "end_time": "2024-03-15T23:07:58.752149Z",
     "start_time": "2024-03-15T23:07:58.739664Z"
    }
   },
   "id": "eb60936d8747d977",
   "execution_count": 5
  }
 ],
 "metadata": {
  "kernelspec": {
   "display_name": "Python 3",
   "language": "python",
   "name": "python3"
  },
  "language_info": {
   "codemirror_mode": {
    "name": "ipython",
    "version": 2
   },
   "file_extension": ".py",
   "mimetype": "text/x-python",
   "name": "python",
   "nbconvert_exporter": "python",
   "pygments_lexer": "ipython2",
   "version": "2.7.6"
  }
 },
 "nbformat": 4,
 "nbformat_minor": 5
}
